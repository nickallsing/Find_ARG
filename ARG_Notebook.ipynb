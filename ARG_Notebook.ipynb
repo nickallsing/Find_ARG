{
 "cells": [
  {
   "cell_type": "markdown",
   "metadata": {},
   "source": [
    "# ARG Jupyter Notebook\n",
    "\n",
    "*Find antibiotic resistance genes in metagenomic sequences 🧬*\n",
    "\n",
    "## TOC:\n",
    "* Set-Up\n",
    "* Obtain metagenomic sequences\n",
    "* Obtain antibiotic resistance gene sequences\n",
    "* Create blast database\n",
    "* Run blast of sequences against database\n",
    "* Organize results into table"
   ]
  },
  {
   "cell_type": "markdown",
   "metadata": {},
   "source": [
    "##  Set-Up BLAST:\n",
    "Please refer to https://ftp.ncbi.nlm.nih.gov/blast/executables/blast+/LATEST/ to download the best version for your machine. This example will use a machine running Linux. 🐧"
   ]
  },
  {
   "cell_type": "code",
   "execution_count": null,
   "metadata": {},
   "outputs": [],
   "source": [
    "#Download and Install Blast\n",
    "!wget -q https://ftp.ncbi.nlm.nih.gov/blast/executables/blast+/LATEST/ncbi-blast-2.13.0+-x64-linux.tar.gz\n",
    "!tar -xf ncbi-blast-2.13.0+-x64-linux.tar.gz"
   ]
  },
  {
   "cell_type": "code",
   "execution_count": null,
   "metadata": {},
   "outputs": [],
   "source": [
    "#Check to see if running\n",
    "!./ncbi-blast-2.13.0+/bin/blastp -h"
   ]
  },
  {
   "cell_type": "markdown",
   "metadata": {},
   "source": [
    "##  Set-Up rush:\n",
    "Rush is \"a cross-platform command-line tool for executing jobs in parallel\" that will be used throughout the experiment. Rush's github can be found here: https://github.com/shenwei356/rush (Still using Linux download, change if needed.)"
   ]
  },
  {
   "cell_type": "code",
   "execution_count": null,
   "metadata": {},
   "outputs": [],
   "source": [
    "#Download and Install rush\n",
    "!wget -q https://github.com/shenwei356/rush/releases/download/v0.4.2/rush_linux_amd64.tar.gz\n",
    "!tar -xf rush_linux_amd64.tar.gz"
   ]
  },
  {
   "cell_type": "code",
   "execution_count": null,
   "metadata": {},
   "outputs": [],
   "source": [
    "#Check to see if running\n",
    "!./rush -h"
   ]
  },
  {
   "cell_type": "markdown",
   "metadata": {},
   "source": [
    "## Set-Up seqtk and Obtain Metagenomic Sequences\n",
    "If files are fastq, convert to fasta using seqtk, \"a fast and lightweight tool for processing sequences in the FASTA or FASTQ format.\" Seqtk's github can be found here: https://github.com/lh3/seqtk"
   ]
  },
  {
   "cell_type": "code",
   "execution_count": null,
   "metadata": {},
   "outputs": [],
   "source": [
    "#Clone and make seqtk\n",
    "!git clone https://github.com/lh3/seqtk.git;\n",
    "!cd seqtk; make"
   ]
  },
  {
   "cell_type": "code",
   "execution_count": null,
   "metadata": {},
   "outputs": [],
   "source": [
    "#Check to see if running\n",
    "!./seqtk/seqtk"
   ]
  },
  {
   "cell_type": "code",
   "execution_count": null,
   "metadata": {},
   "outputs": [],
   "source": [
    "#Place all fastq files into one directory for example: fastq_files_in\n",
    "#Create directory for out files. For example: fasta_files_out\n",
    "#Convert fastq to fasta using rush to parallelize\n",
    "!cd fastq_files_in && ls * | ../rush \"../seqtk/seqtk seq -a {} > ../fasta_files_out/{..}.fasta\""
   ]
  },
  {
   "cell_type": "markdown",
   "metadata": {},
   "source": [
    "## Obtain Antibiotic Resistance Gene Sequences\n",
    "Go to Comprehensive Antibiotic Resistance Database (CARD) and download antibiotic inactivation genes:<br>\n",
    "https://card.mcmaster.ca/download?id=36000&name=antibiotic%20inactivation<br><br>\n",
    "Select:\n",
    "* *part_of*\n",
    "* *is_a*\n",
    "* *participates_in*\n",
    "* *has_part*\n",
    "* *Nucleotide*"
   ]
  },
  {
   "cell_type": "code",
   "execution_count": null,
   "metadata": {},
   "outputs": [],
   "source": [
    "#Create ARG_seq directory and put in nucleotide files from CARD after unzipping\n",
    "!mkdir ARG_seq\n",
    "#Create db directory in which to create directory\n",
    "!mkdir db"
   ]
  },
  {
   "cell_type": "markdown",
   "metadata": {},
   "source": [
    "## Create blast db with sequences from CARD"
   ]
  },
  {
   "cell_type": "code",
   "execution_count": null,
   "metadata": {},
   "outputs": [],
   "source": [
    "#Use name of fasta file downloaded from CARD\n",
    "!ncbi-blast-2.13.0+/bin/makeblastdb -in ARG_seq/ARG_nucleotide.fasta -dbtype 'nucl' -out db/ARG "
   ]
  },
  {
   "cell_type": "markdown",
   "metadata": {},
   "source": [
    "## Run BLAST against database"
   ]
  },
  {
   "cell_type": "code",
   "execution_count": null,
   "metadata": {},
   "outputs": [],
   "source": [
    "#E-value\n",
    "evalue = \"-evalue 10\"\n",
    "#100% Identity Results Only\n",
    "identity = \"-perc_identity 100\"\n",
    "#100% Query Coverage\n",
    "coverage = \"-qcov_hsp_perc 100\"\n",
    "cmd = ('ls * | ../rush \"../ncbi-blast-2.13.0+/bin/blastn -query {} '+\n",
    "       evalue+\" \"+identity+\" \"+coverage+\n",
    "       ' -db ../db/ARG -out ../blast_out/{.}_blast.txt -outfmt 10\"')\n",
    "!cd fasta_files_out && {cmd}"
   ]
  },
  {
   "cell_type": "markdown",
   "metadata": {},
   "source": [
    "## Organize Results into Table"
   ]
  },
  {
   "cell_type": "code",
   "execution_count": 12,
   "metadata": {},
   "outputs": [],
   "source": [
    "import os\n",
    "import glob\n",
    "import pandas as pd\n",
    "os.chdir(\"blast_out\")\n",
    "files = glob.glob(\"*_blast.txt\")\n",
    "big_df = pd.DataFrame()\n",
    "df_dict = {}\n",
    "for file in files:\n",
    "    df = pd.read_csv(file, sep=',', header=None)\n",
    "    df.columns = [\"query_acc.ver\", \"subject_acc.ver\", \"%_identity\", \"alignment_length\", \"mismatches\", \"gap_opens\", \"q._start\", \"q._end\", \"s._start\", \"s._end\", \"evalue\", \"bit_score\"]\n",
    "    name = str(\"ARG_hits_data/\"+file[:-4]+\".csv\")\n",
    "    filename = file[:-10]\n",
    "    df.to_csv(name)\n",
    "    df[filename] = pd.Series([1 for x in range(len(df.index))])\n",
    "    new_df = df[[\"subject_acc.ver\",filename]]\n",
    "    counted_df = new_df.groupby(by=[\"subject_acc.ver\"]).sum()\n",
    "    big_df = pd.concat([big_df, counted_df], axis=1)\n",
    "    big_df = big_df.fillna(0)\n",
    "    sorted_df = counted_df.sort_values(by=filename, ascending=False)\n",
    "    df_dict.update({filename:df[\"subject_acc.ver\"]})\n",
    "df_2=pd.DataFrame.from_dict(df_dict,orient='index').transpose()\n",
    "big_df.to_csv(\"ARG_hits.csv\")\n",
    "df_2.to_csv(\"ARG_list.csv\")\n",
    "os.chdir(\"../\")"
   ]
  }
 ],
 "metadata": {
  "kernelspec": {
   "display_name": "Python 3",
   "language": "python",
   "name": "python3"
  },
  "language_info": {
   "codemirror_mode": {
    "name": "ipython",
    "version": 3
   },
   "file_extension": ".py",
   "mimetype": "text/x-python",
   "name": "python",
   "nbconvert_exporter": "python",
   "pygments_lexer": "ipython3",
   "version": "3.8.5"
  }
 },
 "nbformat": 4,
 "nbformat_minor": 4
}
